{
 "cells": [
  {
   "cell_type": "code",
   "execution_count": 1,
   "id": "609a2816-0023-4df5-914b-7af09393811c",
   "metadata": {},
   "outputs": [],
   "source": [
    "from logging import error\n",
    "from os import write\n",
    "import re\n",
    "from nbformat import read\n",
    "from lxml import etree\n",
    "from requests import Session\n",
    "from requests.auth import HTTPBasicAuth\n",
    "from zeep import Client, Settings, Plugin, helpers\n",
    "from zeep.transports import Transport\n",
    "from zeep.exceptions import Fault\n",
    "import pandas as pd\n",
    "import sys\n",
    "from yachalk import chalk\n",
    "import numpy as np\n",
    "import logging\n",
    "import logging.config\n",
    "import json"
   ]
  },
  {
   "cell_type": "code",
   "execution_count": 2,
   "id": "0fd746ab-23ac-4c47-ae00-efa6f5299c2e",
   "metadata": {},
   "outputs": [],
   "source": [
    "logging.getLogger('zeep').setLevel(logging.DEBUG)\n",
    "DEBUG = True\n",
    "LEVEL = 'ERROR'\n",
    "WSDL_FILE = 'AXLAPI.wsdl'\n",
    "# dcloud UCM\n",
    "user = 'administrator'\n",
    "passwd = 'dCloud123!'\n",
    "cucm = '198.18.133.3'\n",
    "\n",
    "logging.config.dictConfig({\n",
    "    'version': 1,\n",
    "    'formatters': {\n",
    "        'verbose': {\n",
    "            'format': '%(name)s: %(message)s'\n",
    "        }\n",
    "    },\n",
    "    'handlers': {\n",
    "        'console': {\n",
    "            'level': LEVEL,\n",
    "            'class': 'logging.StreamHandler',\n",
    "            'formatter': 'verbose',\n",
    "        },\n",
    "    },\n",
    "    'loggers': {\n",
    "        'zeep.transports': {\n",
    "            'level': LEVEL,\n",
    "            'propagate': True,\n",
    "            'handlers': ['console'],\n",
    "        },\n",
    "    }\n",
    "})"
   ]
  },
  {
   "cell_type": "code",
   "execution_count": 24,
   "id": "13f5579c-68bb-4cfe-9f86-2ef89f5c476c",
   "metadata": {},
   "outputs": [],
   "source": [
    "# AXl session initialisation\n",
    "session = Session()\n",
    "session.verify=False\n",
    "session.auth = HTTPBasicAuth( user,passwd )\n",
    "transport = Transport( session = session, timeout = 10 )\n",
    "settings = Settings( strict = False, xml_huge_tree = True)\n",
    "client = Client( WSDL_FILE, settings = settings, transport = transport)\n",
    "service = client.create_service( '{http://www.cisco.com/AXLAPIService/}AXLAPIBinding',f'https://{cucm}:8443/axl/')\n",
    "\n",
    "def read_input_data(file):\n",
    "    data = pd.read_csv(file)\n",
    "    return data\n",
    "\n",
    "def get_phone(service, phone_name):\n",
    "    phone  = service.getPhone(name=phone_name)\n",
    "    phone_od = helpers.serialize_object(phone['return']['phone'])\n",
    "    return phone_od\n",
    "\n",
    "def refine_phone_input(phone_info):\n",
    "    phone_info['name'] = 'SEP123212321299'\n",
    "    phone_info['protocol'] = 'SIP'\n",
    "    phone_info['securityProfileName'] = 'Cisco 8945 - Standard SIP Non-Secure Profile'\n",
    "    phone_info['sipProfileName'] = 'Standard SIP Profile'\n",
    "    phone_info['phoneTemplateName'] = 'Standard 8945 SIP'\n",
    "\n",
    "    phone_info.pop('confidentialAccess')\n",
    "    phone_info.pop('loadInformation')\n",
    "    # phone_info.pop('preemption')\n",
    "    phone_info.pop('mlppIndicationStatus')\n",
    "    # phone_info.pop('singleButtonBarge')\n",
    "    phone_info.pop('vendorConfig')\n",
    "    phone_info.pop('currentConfig')\n",
    "    # phone_info.pop('ctiid')\n",
    "    # phone_info.pop('uuid')\n",
    "    #phone_info.pop('versionStamp')\n",
    "    phone_info.pop('mraServiceDomain')\n",
    "\n",
    "    # new_phone_info = {\n",
    "    #     'name': 'SEP123212321299',\n",
    "    #     'protocol': 'SIP',\n",
    "    #     'model': 'Cisco 8945',\n",
    "    #     'product': 'Cisco 8945',\n",
    "    #     'class': 'Phone',\n",
    "    #     'protocolSide': 'User',\n",
    "    #     'callingSearchSpaceName': phone_info['callingSearchSpaceName'],\n",
    "    #     'devicePoolName':phone_info['devicePoolName'],\n",
    "    #     'lines':phone_info['lines'],\n",
    "    #     'commonPhoneConfigName':phone_info['commonPhoneConfigName'],\n",
    "    #     'locationName':phone_info['locationName'],\n",
    "    #     'useTrustedRelayPoint':phone_info['useTrustedRelayPoint'],\n",
    "    #     'phoneTemplateName':'Standard 8945 SIP',\n",
    "    #     'primaryPhoneName': None,\n",
    "    #     'sipProfileName': 'Standard SIP Profile',\n",
    "    #     'securityProfileName': 'Cisco 8945 - Standard SIP Non-Secure Profile',\n",
    "    #     'builtInBridgeStatus': phone_info['builtInBridgeStatus'],\n",
    "    #     'packetCaptureMode':phone_info['packetCaptureMode'],\n",
    "    #     'certificateOperation': phone_info['certificateOperation'],\n",
    "    #     'deviceMobilityMode': phone_info['deviceMobilityMode'],\n",
    "    #     'commonDeviceConfigName': None\n",
    "    # }\n",
    "    #print(new_phone_info)\n",
    "    return phone_info\n",
    "\n",
    "def add_phone(service, phone_config, index,logs):\n",
    "    try:\n",
    "        service.addPhone(phone_config)\n",
    "        logs.loc[index,'Status'] = \"Migration Succeeded\"\n",
    "        print(\"Phone {} migrated successfully\".format(phone_config['name']))\n",
    "    except Fault as err:\n",
    "        print(\"{} Add SIP Phone failed. Error: {}\".format(phone_config['name'], err))\n",
    "        logs.loc[index,'Status'] = err\n",
    "\n",
    "\n",
    "def remove_phone(service, phone_name, logs):\n",
    "    try:\n",
    "        service.removePhone(phone_name)\n",
    "    except Fault as err:\n",
    "        print(\"{} Phone deletion failed\".format(phone_name))\n",
    "\n",
    "def prod_process():\n",
    "    try:\n",
    "        if sys.argv[1]:\n",
    "            input_data = read_input_data(sys.argv[1])\n",
    "            phone_list = input_data['Device Name(Line)Sort Descending'].to_frame()\n",
    "        else:\n",
    "            print(\"Please specify the input csv file path.. e.g. python ucm-phone-migration.py test.csv\")\n",
    "            sys.exit(0)\n",
    "\n",
    "        logs = phone_list.copy()\n",
    "        logs['Status'] = np.nan\n",
    "        for index, phone in phone_list:\n",
    "            phone_config = get_phone(service, phone)\n",
    "            new_phone = refine_phone_input(phone_config)\n",
    "            #remove_phone(service, new_phone, index,logs)\n",
    "            add_phone(service, new_phone,index,logs)\n",
    "        logs.to_csv('logs.csv',index=False)\n",
    "    except OSError as err:\n",
    "        logs.loc[index, 'Status'] = err\n",
    "        print(\"Error: {}\".format(err))\n"
   ]
  },
  {
   "cell_type": "code",
   "execution_count": 25,
   "id": "1b79e07a-1dd0-4c10-a478-5157e02a0edb",
   "metadata": {},
   "outputs": [
    {
     "name": "stderr",
     "output_type": "stream",
     "text": [
      "/usr/local/lib/python3.9/site-packages/urllib3/connectionpool.py:1013: InsecureRequestWarning: Unverified HTTPS request is being made to host '198.18.133.3'. Adding certificate verification is strongly advised. See: https://urllib3.readthedocs.io/en/1.26.x/advanced-usage.html#ssl-warnings\n",
      "  warnings.warn(\n",
      "/usr/local/lib/python3.9/site-packages/urllib3/connectionpool.py:1013: InsecureRequestWarning: Unverified HTTPS request is being made to host '198.18.133.3'. Adding certificate verification is strongly advised. See: https://urllib3.readthedocs.io/en/1.26.x/advanced-usage.html#ssl-warnings\n",
      "  warnings.warn(\n"
     ]
    },
    {
     "name": "stdout",
     "output_type": "stream",
     "text": [
      "SEP123212321299 Add SIP Phone failed. Error: Could not insert new row - duplicate value in a UNIQUE INDEX column (Unique Index:).\n"
     ]
    },
    {
     "name": "stderr",
     "output_type": "stream",
     "text": [
      "/usr/local/lib/python3.9/site-packages/urllib3/connectionpool.py:1013: InsecureRequestWarning: Unverified HTTPS request is being made to host '198.18.133.3'. Adding certificate verification is strongly advised. See: https://urllib3.readthedocs.io/en/1.26.x/advanced-usage.html#ssl-warnings\n",
      "  warnings.warn(\n"
     ]
    },
    {
     "name": "stdout",
     "output_type": "stream",
     "text": [
      "SEP123212321299 Add SIP Phone failed. Error: Could not insert new row - duplicate value in a UNIQUE INDEX column (Unique Index:).\n"
     ]
    },
    {
     "name": "stderr",
     "output_type": "stream",
     "text": [
      "/usr/local/lib/python3.9/site-packages/urllib3/connectionpool.py:1013: InsecureRequestWarning: Unverified HTTPS request is being made to host '198.18.133.3'. Adding certificate verification is strongly advised. See: https://urllib3.readthedocs.io/en/1.26.x/advanced-usage.html#ssl-warnings\n",
      "  warnings.warn(\n"
     ]
    }
   ],
   "source": [
    "input_data = read_input_data('inputs/HWLE 8945 Test.csv')\n",
    "try:\n",
    "    phone_list = input_data['Device Name(Line)Sort Descending'].to_frame()\n",
    "    logs = phone_list.copy()\n",
    "    logs['Status'] = np.nan\n",
    "    for index, phone in phone_list.iterrows():\n",
    "        phone_config = get_phone(service, phone['Device Name(Line)Sort Descending'])\n",
    "        new_phone = refine_phone_input(phone_config)\n",
    "        #remove_phone(service, new_phone, index,logs)\n",
    "        add_phone(service, new_phone,index,logs)\n",
    "    logs.to_csv('logs.csv',index=False)\n",
    "except OSError as err:\n",
    "        logs.loc[index, 'Status'] = err\n",
    "        print(\"Error: {}\".format(err))"
   ]
  },
  {
   "cell_type": "code",
   "execution_count": 14,
   "id": "f8aab96d-a99a-4a57-82aa-be72ac813a6b",
   "metadata": {},
   "outputs": [],
   "source": [
    "phone_list = input_data['Device Name(Line)Sort Descending'].to_frame()"
   ]
  },
  {
   "cell_type": "code",
   "execution_count": 15,
   "id": "ac1da519-6d0f-4365-87ed-b675333230eb",
   "metadata": {},
   "outputs": [
    {
     "data": {
      "text/html": [
       "<div>\n",
       "<style scoped>\n",
       "    .dataframe tbody tr th:only-of-type {\n",
       "        vertical-align: middle;\n",
       "    }\n",
       "\n",
       "    .dataframe tbody tr th {\n",
       "        vertical-align: top;\n",
       "    }\n",
       "\n",
       "    .dataframe thead th {\n",
       "        text-align: right;\n",
       "    }\n",
       "</style>\n",
       "<table border=\"1\" class=\"dataframe\">\n",
       "  <thead>\n",
       "    <tr style=\"text-align: right;\">\n",
       "      <th></th>\n",
       "      <th>Device Name(Line)Sort Descending</th>\n",
       "    </tr>\n",
       "  </thead>\n",
       "  <tbody>\n",
       "    <tr>\n",
       "      <th>0</th>\n",
       "      <td>SEP1C36C79B25B9</td>\n",
       "    </tr>\n",
       "  </tbody>\n",
       "</table>\n",
       "</div>"
      ],
      "text/plain": [
       "  Device Name(Line)Sort Descending\n",
       "0                  SEP1C36C79B25B9"
      ]
     },
     "execution_count": 15,
     "metadata": {},
     "output_type": "execute_result"
    }
   ],
   "source": [
    "phone_list"
   ]
  },
  {
   "cell_type": "code",
   "execution_count": 8,
   "id": "567b4f43-1bf0-43b2-8de1-9504116ecec1",
   "metadata": {},
   "outputs": [
    {
     "ename": "UnboundLocalError",
     "evalue": "local variable 'logs' referenced before assignment",
     "output_type": "error",
     "traceback": [
      "\u001b[0;31m---------------------------------------------------------------------------\u001b[0m",
      "\u001b[0;31mFileNotFoundError\u001b[0m                         Traceback (most recent call last)",
      "\u001b[0;32m/var/folders/gn/w8k6ypn137q695vtqtzrwx440000gn/T/ipykernel_12983/1839609794.py\u001b[0m in \u001b[0;36mprod_process\u001b[0;34m()\u001b[0m\n\u001b[1;32m     82\u001b[0m         \u001b[0;32mif\u001b[0m \u001b[0msys\u001b[0m\u001b[0;34m.\u001b[0m\u001b[0margv\u001b[0m\u001b[0;34m[\u001b[0m\u001b[0;36m1\u001b[0m\u001b[0;34m]\u001b[0m\u001b[0;34m:\u001b[0m\u001b[0;34m\u001b[0m\u001b[0;34m\u001b[0m\u001b[0m\n\u001b[0;32m---> 83\u001b[0;31m             \u001b[0minput_data\u001b[0m \u001b[0;34m=\u001b[0m \u001b[0mread_input_data\u001b[0m\u001b[0;34m(\u001b[0m\u001b[0msys\u001b[0m\u001b[0;34m.\u001b[0m\u001b[0margv\u001b[0m\u001b[0;34m[\u001b[0m\u001b[0;36m1\u001b[0m\u001b[0;34m]\u001b[0m\u001b[0;34m)\u001b[0m\u001b[0;34m\u001b[0m\u001b[0;34m\u001b[0m\u001b[0m\n\u001b[0m\u001b[1;32m     84\u001b[0m             \u001b[0mphone_list\u001b[0m \u001b[0;34m=\u001b[0m \u001b[0minput_data\u001b[0m\u001b[0;34m[\u001b[0m\u001b[0;34m'Device Name(Line)Sort Descending'\u001b[0m\u001b[0;34m]\u001b[0m\u001b[0;34m.\u001b[0m\u001b[0mto_frame\u001b[0m\u001b[0;34m(\u001b[0m\u001b[0;34m)\u001b[0m\u001b[0;34m\u001b[0m\u001b[0;34m\u001b[0m\u001b[0m\n",
      "\u001b[0;32m/var/folders/gn/w8k6ypn137q695vtqtzrwx440000gn/T/ipykernel_12983/1839609794.py\u001b[0m in \u001b[0;36mread_input_data\u001b[0;34m(file)\u001b[0m\n\u001b[1;32m     10\u001b[0m \u001b[0;32mdef\u001b[0m \u001b[0mread_input_data\u001b[0m\u001b[0;34m(\u001b[0m\u001b[0mfile\u001b[0m\u001b[0;34m)\u001b[0m\u001b[0;34m:\u001b[0m\u001b[0;34m\u001b[0m\u001b[0;34m\u001b[0m\u001b[0m\n\u001b[0;32m---> 11\u001b[0;31m     \u001b[0mdata\u001b[0m \u001b[0;34m=\u001b[0m \u001b[0mpd\u001b[0m\u001b[0;34m.\u001b[0m\u001b[0mread_csv\u001b[0m\u001b[0;34m(\u001b[0m\u001b[0mfile\u001b[0m\u001b[0;34m)\u001b[0m\u001b[0;34m\u001b[0m\u001b[0;34m\u001b[0m\u001b[0m\n\u001b[0m\u001b[1;32m     12\u001b[0m     \u001b[0;32mreturn\u001b[0m \u001b[0mdata\u001b[0m\u001b[0;34m\u001b[0m\u001b[0;34m\u001b[0m\u001b[0m\n",
      "\u001b[0;32m/usr/local/lib/python3.9/site-packages/pandas/util/_decorators.py\u001b[0m in \u001b[0;36mwrapper\u001b[0;34m(*args, **kwargs)\u001b[0m\n\u001b[1;32m    310\u001b[0m                 )\n\u001b[0;32m--> 311\u001b[0;31m             \u001b[0;32mreturn\u001b[0m \u001b[0mfunc\u001b[0m\u001b[0;34m(\u001b[0m\u001b[0;34m*\u001b[0m\u001b[0margs\u001b[0m\u001b[0;34m,\u001b[0m \u001b[0;34m**\u001b[0m\u001b[0mkwargs\u001b[0m\u001b[0;34m)\u001b[0m\u001b[0;34m\u001b[0m\u001b[0;34m\u001b[0m\u001b[0m\n\u001b[0m\u001b[1;32m    312\u001b[0m \u001b[0;34m\u001b[0m\u001b[0m\n",
      "\u001b[0;32m/usr/local/lib/python3.9/site-packages/pandas/io/parsers/readers.py\u001b[0m in \u001b[0;36mread_csv\u001b[0;34m(filepath_or_buffer, sep, delimiter, header, names, index_col, usecols, squeeze, prefix, mangle_dupe_cols, dtype, engine, converters, true_values, false_values, skipinitialspace, skiprows, skipfooter, nrows, na_values, keep_default_na, na_filter, verbose, skip_blank_lines, parse_dates, infer_datetime_format, keep_date_col, date_parser, dayfirst, cache_dates, iterator, chunksize, compression, thousands, decimal, lineterminator, quotechar, quoting, doublequote, escapechar, comment, encoding, encoding_errors, dialect, error_bad_lines, warn_bad_lines, on_bad_lines, delim_whitespace, low_memory, memory_map, float_precision, storage_options)\u001b[0m\n\u001b[1;32m    585\u001b[0m \u001b[0;34m\u001b[0m\u001b[0m\n\u001b[0;32m--> 586\u001b[0;31m     \u001b[0;32mreturn\u001b[0m \u001b[0m_read\u001b[0m\u001b[0;34m(\u001b[0m\u001b[0mfilepath_or_buffer\u001b[0m\u001b[0;34m,\u001b[0m \u001b[0mkwds\u001b[0m\u001b[0;34m)\u001b[0m\u001b[0;34m\u001b[0m\u001b[0;34m\u001b[0m\u001b[0m\n\u001b[0m\u001b[1;32m    587\u001b[0m \u001b[0;34m\u001b[0m\u001b[0m\n",
      "\u001b[0;32m/usr/local/lib/python3.9/site-packages/pandas/io/parsers/readers.py\u001b[0m in \u001b[0;36m_read\u001b[0;34m(filepath_or_buffer, kwds)\u001b[0m\n\u001b[1;32m    481\u001b[0m     \u001b[0;31m# Create the parser.\u001b[0m\u001b[0;34m\u001b[0m\u001b[0;34m\u001b[0m\u001b[0m\n\u001b[0;32m--> 482\u001b[0;31m     \u001b[0mparser\u001b[0m \u001b[0;34m=\u001b[0m \u001b[0mTextFileReader\u001b[0m\u001b[0;34m(\u001b[0m\u001b[0mfilepath_or_buffer\u001b[0m\u001b[0;34m,\u001b[0m \u001b[0;34m**\u001b[0m\u001b[0mkwds\u001b[0m\u001b[0;34m)\u001b[0m\u001b[0;34m\u001b[0m\u001b[0;34m\u001b[0m\u001b[0m\n\u001b[0m\u001b[1;32m    483\u001b[0m \u001b[0;34m\u001b[0m\u001b[0m\n",
      "\u001b[0;32m/usr/local/lib/python3.9/site-packages/pandas/io/parsers/readers.py\u001b[0m in \u001b[0;36m__init__\u001b[0;34m(self, f, engine, **kwds)\u001b[0m\n\u001b[1;32m    810\u001b[0m \u001b[0;34m\u001b[0m\u001b[0m\n\u001b[0;32m--> 811\u001b[0;31m         \u001b[0mself\u001b[0m\u001b[0;34m.\u001b[0m\u001b[0m_engine\u001b[0m \u001b[0;34m=\u001b[0m \u001b[0mself\u001b[0m\u001b[0;34m.\u001b[0m\u001b[0m_make_engine\u001b[0m\u001b[0;34m(\u001b[0m\u001b[0mself\u001b[0m\u001b[0;34m.\u001b[0m\u001b[0mengine\u001b[0m\u001b[0;34m)\u001b[0m\u001b[0;34m\u001b[0m\u001b[0;34m\u001b[0m\u001b[0m\n\u001b[0m\u001b[1;32m    812\u001b[0m \u001b[0;34m\u001b[0m\u001b[0m\n",
      "\u001b[0;32m/usr/local/lib/python3.9/site-packages/pandas/io/parsers/readers.py\u001b[0m in \u001b[0;36m_make_engine\u001b[0;34m(self, engine)\u001b[0m\n\u001b[1;32m   1039\u001b[0m         \u001b[0;31m# error: Too many arguments for \"ParserBase\"\u001b[0m\u001b[0;34m\u001b[0m\u001b[0;34m\u001b[0m\u001b[0m\n\u001b[0;32m-> 1040\u001b[0;31m         \u001b[0;32mreturn\u001b[0m \u001b[0mmapping\u001b[0m\u001b[0;34m[\u001b[0m\u001b[0mengine\u001b[0m\u001b[0;34m]\u001b[0m\u001b[0;34m(\u001b[0m\u001b[0mself\u001b[0m\u001b[0;34m.\u001b[0m\u001b[0mf\u001b[0m\u001b[0;34m,\u001b[0m \u001b[0;34m**\u001b[0m\u001b[0mself\u001b[0m\u001b[0;34m.\u001b[0m\u001b[0moptions\u001b[0m\u001b[0;34m)\u001b[0m  \u001b[0;31m# type: ignore[call-arg]\u001b[0m\u001b[0;34m\u001b[0m\u001b[0;34m\u001b[0m\u001b[0m\n\u001b[0m\u001b[1;32m   1041\u001b[0m \u001b[0;34m\u001b[0m\u001b[0m\n",
      "\u001b[0;32m/usr/local/lib/python3.9/site-packages/pandas/io/parsers/c_parser_wrapper.py\u001b[0m in \u001b[0;36m__init__\u001b[0;34m(self, src, **kwds)\u001b[0m\n\u001b[1;32m     50\u001b[0m         \u001b[0;31m# open handles\u001b[0m\u001b[0;34m\u001b[0m\u001b[0;34m\u001b[0m\u001b[0m\n\u001b[0;32m---> 51\u001b[0;31m         \u001b[0mself\u001b[0m\u001b[0;34m.\u001b[0m\u001b[0m_open_handles\u001b[0m\u001b[0;34m(\u001b[0m\u001b[0msrc\u001b[0m\u001b[0;34m,\u001b[0m \u001b[0mkwds\u001b[0m\u001b[0;34m)\u001b[0m\u001b[0;34m\u001b[0m\u001b[0;34m\u001b[0m\u001b[0m\n\u001b[0m\u001b[1;32m     52\u001b[0m         \u001b[0;32massert\u001b[0m \u001b[0mself\u001b[0m\u001b[0;34m.\u001b[0m\u001b[0mhandles\u001b[0m \u001b[0;32mis\u001b[0m \u001b[0;32mnot\u001b[0m \u001b[0;32mNone\u001b[0m\u001b[0;34m\u001b[0m\u001b[0;34m\u001b[0m\u001b[0m\n",
      "\u001b[0;32m/usr/local/lib/python3.9/site-packages/pandas/io/parsers/base_parser.py\u001b[0m in \u001b[0;36m_open_handles\u001b[0;34m(self, src, kwds)\u001b[0m\n\u001b[1;32m    221\u001b[0m         \"\"\"\n\u001b[0;32m--> 222\u001b[0;31m         self.handles = get_handle(\n\u001b[0m\u001b[1;32m    223\u001b[0m             \u001b[0msrc\u001b[0m\u001b[0;34m,\u001b[0m\u001b[0;34m\u001b[0m\u001b[0;34m\u001b[0m\u001b[0m\n",
      "\u001b[0;32m/usr/local/lib/python3.9/site-packages/pandas/io/common.py\u001b[0m in \u001b[0;36mget_handle\u001b[0;34m(path_or_buf, mode, encoding, compression, memory_map, is_text, errors, storage_options)\u001b[0m\n\u001b[1;32m    701\u001b[0m             \u001b[0;31m# Encoding\u001b[0m\u001b[0;34m\u001b[0m\u001b[0;34m\u001b[0m\u001b[0m\n\u001b[0;32m--> 702\u001b[0;31m             handle = open(\n\u001b[0m\u001b[1;32m    703\u001b[0m                 \u001b[0mhandle\u001b[0m\u001b[0;34m,\u001b[0m\u001b[0;34m\u001b[0m\u001b[0;34m\u001b[0m\u001b[0m\n",
      "\u001b[0;31mFileNotFoundError\u001b[0m: [Errno 2] No such file or directory: '-f'",
      "\nDuring handling of the above exception, another exception occurred:\n",
      "\u001b[0;31mUnboundLocalError\u001b[0m                         Traceback (most recent call last)",
      "\u001b[0;32m/var/folders/gn/w8k6ypn137q695vtqtzrwx440000gn/T/ipykernel_12983/3258441635.py\u001b[0m in \u001b[0;36m<module>\u001b[0;34m\u001b[0m\n\u001b[0;32m----> 1\u001b[0;31m \u001b[0mprod_process\u001b[0m\u001b[0;34m(\u001b[0m\u001b[0;34m)\u001b[0m\u001b[0;34m\u001b[0m\u001b[0;34m\u001b[0m\u001b[0m\n\u001b[0m",
      "\u001b[0;32m/var/folders/gn/w8k6ypn137q695vtqtzrwx440000gn/T/ipykernel_12983/1839609794.py\u001b[0m in \u001b[0;36mprod_process\u001b[0;34m()\u001b[0m\n\u001b[1;32m     96\u001b[0m         \u001b[0mlogs\u001b[0m\u001b[0;34m.\u001b[0m\u001b[0mto_csv\u001b[0m\u001b[0;34m(\u001b[0m\u001b[0;34m'logs.csv'\u001b[0m\u001b[0;34m,\u001b[0m\u001b[0mindex\u001b[0m\u001b[0;34m=\u001b[0m\u001b[0;32mFalse\u001b[0m\u001b[0;34m)\u001b[0m\u001b[0;34m\u001b[0m\u001b[0;34m\u001b[0m\u001b[0m\n\u001b[1;32m     97\u001b[0m     \u001b[0;32mexcept\u001b[0m \u001b[0mOSError\u001b[0m \u001b[0;32mas\u001b[0m \u001b[0merr\u001b[0m\u001b[0;34m:\u001b[0m\u001b[0;34m\u001b[0m\u001b[0;34m\u001b[0m\u001b[0m\n\u001b[0;32m---> 98\u001b[0;31m         \u001b[0mlogs\u001b[0m\u001b[0;34m.\u001b[0m\u001b[0mloc\u001b[0m\u001b[0;34m[\u001b[0m\u001b[0mindex\u001b[0m\u001b[0;34m,\u001b[0m \u001b[0;34m'Status'\u001b[0m\u001b[0;34m]\u001b[0m \u001b[0;34m=\u001b[0m \u001b[0merr\u001b[0m\u001b[0;34m\u001b[0m\u001b[0;34m\u001b[0m\u001b[0m\n\u001b[0m\u001b[1;32m     99\u001b[0m         \u001b[0mprint\u001b[0m\u001b[0;34m(\u001b[0m\u001b[0;34m\"Error: {}\"\u001b[0m\u001b[0;34m.\u001b[0m\u001b[0mformat\u001b[0m\u001b[0;34m(\u001b[0m\u001b[0merr\u001b[0m\u001b[0;34m)\u001b[0m\u001b[0;34m)\u001b[0m\u001b[0;34m\u001b[0m\u001b[0;34m\u001b[0m\u001b[0m\n",
      "\u001b[0;31mUnboundLocalError\u001b[0m: local variable 'logs' referenced before assignment"
     ]
    }
   ],
   "source": [
    "prod_process()"
   ]
  },
  {
   "cell_type": "code",
   "execution_count": null,
   "id": "a52c4b56-5ece-4034-8a71-063325e3c6f1",
   "metadata": {},
   "outputs": [],
   "source": []
  }
 ],
 "metadata": {
  "kernelspec": {
   "display_name": "Python 3 (ipykernel)",
   "language": "python",
   "name": "python3"
  },
  "language_info": {
   "codemirror_mode": {
    "name": "ipython",
    "version": 3
   },
   "file_extension": ".py",
   "mimetype": "text/x-python",
   "name": "python",
   "nbconvert_exporter": "python",
   "pygments_lexer": "ipython3",
   "version": "3.9.10"
  }
 },
 "nbformat": 4,
 "nbformat_minor": 5
}
