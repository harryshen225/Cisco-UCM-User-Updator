{
 "cells": [
  {
   "cell_type": "code",
   "execution_count": 1,
   "id": "609a2816-0023-4df5-914b-7af09393811c",
   "metadata": {},
   "outputs": [],
   "source": [
    "from logging import error\n",
    "from os import write\n",
    "import re\n",
    "from nbformat import read\n",
    "from lxml import etree\n",
    "from requests import Session\n",
    "from requests.auth import HTTPBasicAuth\n",
    "from zeep import Client, Settings, Plugin, helpers\n",
    "from zeep.transports import Transport\n",
    "from zeep.exceptions import Fault\n",
    "import pandas as pd\n",
    "import sys\n",
    "from yachalk import chalk\n",
    "import numpy as np\n",
    "import logging\n",
    "import logging.config\n",
    "import json"
   ]
  },
  {
   "cell_type": "code",
   "execution_count": null,
   "id": "0fd746ab-23ac-4c47-ae00-efa6f5299c2e",
   "metadata": {},
   "outputs": [],
   "source": []
  }
 ],
 "metadata": {
  "kernelspec": {
   "display_name": "Python 3 (ipykernel)",
   "language": "python",
   "name": "python3"
  },
  "language_info": {
   "codemirror_mode": {
    "name": "ipython",
    "version": 3
   },
   "file_extension": ".py",
   "mimetype": "text/x-python",
   "name": "python",
   "nbconvert_exporter": "python",
   "pygments_lexer": "ipython3",
   "version": "3.9.10"
  }
 },
 "nbformat": 4,
 "nbformat_minor": 5
}
