{
 "cells": [
  {
   "cell_type": "code",
   "execution_count": 7,
   "id": "609a2816-0023-4df5-914b-7af09393811c",
   "metadata": {},
   "outputs": [],
   "source": [
    "from logging import error\n",
    "from os import write\n",
    "import re\n",
    "from nbformat import read\n",
    "from lxml import etree\n",
    "from requests import Session\n",
    "from requests.auth import HTTPBasicAuth\n",
    "from zeep import Client, Settings, Plugin, helpers\n",
    "from zeep.transports import Transport\n",
    "from zeep.exceptions import Fault\n",
    "import pandas as pd\n",
    "import sys\n",
    "from yachalk import chalk\n",
    "import numpy as np\n",
    "import logging\n",
    "import logging.config\n",
    "import json"
   ]
  },
  {
   "cell_type": "code",
   "execution_count": 8,
   "id": "0fd746ab-23ac-4c47-ae00-efa6f5299c2e",
   "metadata": {},
   "outputs": [],
   "source": [
    "logging.getLogger('zeep').setLevel(logging.DEBUG)\n",
    "DEBUG = True\n",
    "LEVEL = 'ERROR'\n",
    "WSDL_FILE = 'AXLAPI.wsdl'\n",
    "# dcloud UCM\n",
    "user = 'administrator'\n",
    "passwd = 'dCloud123!'\n",
    "cucm = '198.18.133.3'\n",
    "\n",
    "logging.config.dictConfig({\n",
    "    'version': 1,\n",
    "    'formatters': {\n",
    "        'verbose': {\n",
    "            'format': '%(name)s: %(message)s'\n",
    "        }\n",
    "    },\n",
    "    'handlers': {\n",
    "        'console': {\n",
    "            'level': LEVEL,\n",
    "            'class': 'logging.StreamHandler',\n",
    "            'formatter': 'verbose',\n",
    "        },\n",
    "    },\n",
    "    'loggers': {\n",
    "        'zeep.transports': {\n",
    "            'level': LEVEL,\n",
    "            'propagate': True,\n",
    "            'handlers': ['console'],\n",
    "        },\n",
    "    }\n",
    "})"
   ]
  },
  {
   "cell_type": "code",
   "execution_count": 9,
   "id": "13f5579c-68bb-4cfe-9f86-2ef89f5c476c",
   "metadata": {},
   "outputs": [],
   "source": [
    "# AXl session initialisation\n",
    "session = Session()\n",
    "session.verify=False\n",
    "session.auth = HTTPBasicAuth( user,passwd )\n",
    "transport = Transport( session = session, timeout = 10 )\n",
    "settings = Settings( strict = False, xml_huge_tree = True)\n",
    "client = Client( WSDL_FILE, settings = settings, transport = transport)\n",
    "service = client.create_service( '{http://www.cisco.com/AXLAPIService/}AXLAPIBinding',f'https://{cucm}:8443/axl/')\n",
    "\n",
    "def read_input_data(file):\n",
    "    data = pd.read_csv(file)\n",
    "    return data\n",
    "\n",
    "def get_phone(service, phone_name):\n",
    "    phone  = service.getPhone(name=phone_name)\n",
    "    phone_od = helpers.serialize_object(phone['return']['phone'])\n",
    "    return phone_od\n",
    "\n",
    "def refine_phone_input(phone_info):\n",
    "    phone_info['name'] = 'SEP123212321299'\n",
    "    phone_info['protocol'] = 'SIP'\n",
    "    phone_info['securityProfileName'] = 'Cisco 8945 - Standard SIP Non-Secure Profile'\n",
    "    phone_info['sipProfileName'] = 'Standard SIP Profile'\n",
    "    phone_info['phoneTemplateName'] = 'Standard 8945 SIP'\n",
    "\n",
    "    phone_info.pop('confidentialAccess')\n",
    "    phone_info.pop('loadInformation')\n",
    "    # phone_info.pop('preemption')\n",
    "    phone_info.pop('mlppIndicationStatus')\n",
    "    # phone_info.pop('singleButtonBarge')\n",
    "    phone_info.pop('vendorConfig')\n",
    "    phone_info.pop('currentConfig')\n",
    "    # phone_info.pop('ctiid')\n",
    "    # phone_info.pop('uuid')\n",
    "    #phone_info.pop('versionStamp')\n",
    "    phone_info.pop('mraServiceDomain')\n",
    "\n",
    "    # new_phone_info = {\n",
    "    #     'name': 'SEP123212321299',\n",
    "    #     'protocol': 'SIP',\n",
    "    #     'model': 'Cisco 8945',\n",
    "    #     'product': 'Cisco 8945',\n",
    "    #     'class': 'Phone',\n",
    "    #     'protocolSide': 'User',\n",
    "    #     'callingSearchSpaceName': phone_info['callingSearchSpaceName'],\n",
    "    #     'devicePoolName':phone_info['devicePoolName'],\n",
    "    #     'lines':phone_info['lines'],\n",
    "    #     'commonPhoneConfigName':phone_info['commonPhoneConfigName'],\n",
    "    #     'locationName':phone_info['locationName'],\n",
    "    #     'useTrustedRelayPoint':phone_info['useTrustedRelayPoint'],\n",
    "    #     'phoneTemplateName':'Standard 8945 SIP',\n",
    "    #     'primaryPhoneName': None,\n",
    "    #     'sipProfileName': 'Standard SIP Profile',\n",
    "    #     'securityProfileName': 'Cisco 8945 - Standard SIP Non-Secure Profile',\n",
    "    #     'builtInBridgeStatus': phone_info['builtInBridgeStatus'],\n",
    "    #     'packetCaptureMode':phone_info['packetCaptureMode'],\n",
    "    #     'certificateOperation': phone_info['certificateOperation'],\n",
    "    #     'deviceMobilityMode': phone_info['deviceMobilityMode'],\n",
    "    #     'commonDeviceConfigName': None\n",
    "    # }\n",
    "    #print(new_phone_info)\n",
    "    return phone_info\n",
    "\n",
    "def add_phone(service, phone_config, index,logs):\n",
    "    try:\n",
    "        service.addPhone(phone_config)\n",
    "        logs.loc[index,'Status'] = \"Migration Succeeded\"\n",
    "        print(\"Phone {} migrated successfully\".format(phone_config['name']))\n",
    "    except Fault as err:\n",
    "        print(\"{} Add SIP Phone failed. Error: {}\".format(phone_config['name'], err))\n",
    "        logs.loc[index,'Status'] = err\n",
    "\n",
    "\n",
    "def remove_phone(service, phone_name, logs):\n",
    "    try:\n",
    "        service.removePhone(phone_name)\n",
    "    except Fault as err:\n",
    "        print(\"{} Phone deletion failed\".format(phone_name))\n",
    "\n",
    "def prod_process():\n",
    "    try:\n",
    "        if sys.argv[1]:\n",
    "            input_data = read_input_data(sys.argv[1])\n",
    "            phone_list = input_data['Device Name(Line)Sort Descending'].to_frame()\n",
    "        else:\n",
    "            print(\"Please specify the input csv file path.. e.g. python ucm-phone-migration.py test.csv\")\n",
    "            sys.exit(0)\n",
    "\n",
    "        logs = phone_list.copy()\n",
    "        logs['Status'] = np.nan\n",
    "        for index, phone in phone_list:\n",
    "            phone_config = get_phone(service, phone)\n",
    "            new_phone = refine_phone_input(phone_config)\n",
    "            #remove_phone(service, new_phone, index,logs)\n",
    "            add_phone(service, new_phone,index,logs)\n",
    "        logs.to_csv('logs.csv',index=False)\n",
    "    except OSError as err:\n",
    "        logs.loc[index, 'Status'] = err\n",
    "        print(\"Error: {}\".format(err))\n"
   ]
  },
  {
   "cell_type": "code",
   "execution_count": 25,
   "id": "1b79e07a-1dd0-4c10-a478-5157e02a0edb",
   "metadata": {},
   "outputs": [
    {
     "name": "stderr",
     "output_type": "stream",
     "text": [
      "/usr/local/lib/python3.9/site-packages/urllib3/connectionpool.py:1013: InsecureRequestWarning: Unverified HTTPS request is being made to host '198.18.133.3'. Adding certificate verification is strongly advised. See: https://urllib3.readthedocs.io/en/1.26.x/advanced-usage.html#ssl-warnings\n",
      "  warnings.warn(\n",
      "/usr/local/lib/python3.9/site-packages/urllib3/connectionpool.py:1013: InsecureRequestWarning: Unverified HTTPS request is being made to host '198.18.133.3'. Adding certificate verification is strongly advised. See: https://urllib3.readthedocs.io/en/1.26.x/advanced-usage.html#ssl-warnings\n",
      "  warnings.warn(\n"
     ]
    },
    {
     "name": "stdout",
     "output_type": "stream",
     "text": [
      "SEP123212321299 Add SIP Phone failed. Error: Could not insert new row - duplicate value in a UNIQUE INDEX column (Unique Index:).\n"
     ]
    },
    {
     "name": "stderr",
     "output_type": "stream",
     "text": [
      "/usr/local/lib/python3.9/site-packages/urllib3/connectionpool.py:1013: InsecureRequestWarning: Unverified HTTPS request is being made to host '198.18.133.3'. Adding certificate verification is strongly advised. See: https://urllib3.readthedocs.io/en/1.26.x/advanced-usage.html#ssl-warnings\n",
      "  warnings.warn(\n"
     ]
    },
    {
     "name": "stdout",
     "output_type": "stream",
     "text": [
      "SEP123212321299 Add SIP Phone failed. Error: Could not insert new row - duplicate value in a UNIQUE INDEX column (Unique Index:).\n"
     ]
    },
    {
     "name": "stderr",
     "output_type": "stream",
     "text": [
      "/usr/local/lib/python3.9/site-packages/urllib3/connectionpool.py:1013: InsecureRequestWarning: Unverified HTTPS request is being made to host '198.18.133.3'. Adding certificate verification is strongly advised. See: https://urllib3.readthedocs.io/en/1.26.x/advanced-usage.html#ssl-warnings\n",
      "  warnings.warn(\n"
     ]
    }
   ],
   "source": [
    "input_data = read_input_data('inputs/HWLE 8945 Test.csv')\n",
    "try:\n",
    "    phone_list = input_data['Device Name(Line)Sort Descending'].to_frame()\n",
    "    logs = phone_list.copy()\n",
    "    logs['Status'] = np.nan\n",
    "    for index, phone in phone_list.iterrows():\n",
    "        phone_config = get_phone(service, phone['Device Name(Line)Sort Descending'])\n",
    "        new_phone = refine_phone_input(phone_config)\n",
    "        #remove_phone(service, new_phone, index,logs)\n",
    "        add_phone(service, new_phone,index,logs)\n",
    "    logs.to_csv('logs.csv',index=False)\n",
    "except OSError as err:\n",
    "        logs.loc[index, 'Status'] = err\n",
    "        print(\"Error: {}\".format(err))"
   ]
  },
  {
   "cell_type": "code",
   "execution_count": 14,
   "id": "f8aab96d-a99a-4a57-82aa-be72ac813a6b",
   "metadata": {},
   "outputs": [],
   "source": [
    "phone_list = input_data['Device Name(Line)Sort Descending'].to_frame()"
   ]
  },
  {
   "cell_type": "code",
   "execution_count": 15,
   "id": "ac1da519-6d0f-4365-87ed-b675333230eb",
   "metadata": {},
   "outputs": [
    {
     "data": {
      "text/html": [
       "<div>\n",
       "<style scoped>\n",
       "    .dataframe tbody tr th:only-of-type {\n",
       "        vertical-align: middle;\n",
       "    }\n",
       "\n",
       "    .dataframe tbody tr th {\n",
       "        vertical-align: top;\n",
       "    }\n",
       "\n",
       "    .dataframe thead th {\n",
       "        text-align: right;\n",
       "    }\n",
       "</style>\n",
       "<table border=\"1\" class=\"dataframe\">\n",
       "  <thead>\n",
       "    <tr style=\"text-align: right;\">\n",
       "      <th></th>\n",
       "      <th>Device Name(Line)Sort Descending</th>\n",
       "    </tr>\n",
       "  </thead>\n",
       "  <tbody>\n",
       "    <tr>\n",
       "      <th>0</th>\n",
       "      <td>SEP1C36C79B25B9</td>\n",
       "    </tr>\n",
       "  </tbody>\n",
       "</table>\n",
       "</div>"
      ],
      "text/plain": [
       "  Device Name(Line)Sort Descending\n",
       "0                  SEP1C36C79B25B9"
      ]
     },
     "execution_count": 15,
     "metadata": {},
     "output_type": "execute_result"
    }
   ],
   "source": [
    "phone_list"
   ]
  },
  {
   "cell_type": "code",
   "execution_count": 16,
   "id": "567b4f43-1bf0-43b2-8de1-9504116ecec1",
   "metadata": {},
   "outputs": [
    {
     "name": "stderr",
     "output_type": "stream",
     "text": [
      "/usr/local/lib/python3.9/site-packages/urllib3/connectionpool.py:1013: InsecureRequestWarning: Unverified HTTPS request is being made to host '198.18.133.3'. Adding certificate verification is strongly advised. See: https://urllib3.readthedocs.io/en/1.26.x/advanced-usage.html#ssl-warnings\n",
      "  warnings.warn(\n"
     ]
    },
    {
     "data": {
      "text/plain": [
       "{\n",
       "    'return': {\n",
       "        'user': {\n",
       "            'firstName': 'Anita',\n",
       "            'displayName': 'Anita Perez',\n",
       "            'middleName': None,\n",
       "            'lastName': 'Perez',\n",
       "            'emMaxLoginTime': None,\n",
       "            'userid': 'aperez',\n",
       "            'password': None,\n",
       "            'pin': None,\n",
       "            'mailid': 'aperez@cb115.dc-02.com',\n",
       "            'department': 'Sales',\n",
       "            'manager': 'tbard',\n",
       "            'userLocale': None,\n",
       "            'associatedDevices': {\n",
       "                'device': [\n",
       "                    'CSFAPEREZ',\n",
       "                    'SEPB1B1B1B1B1B1',\n",
       "                    'SEPB2B2B2B2B2B2'\n",
       "                ]\n",
       "            },\n",
       "            'primaryExtension': {\n",
       "                'pattern': '6017',\n",
       "                'routePartitionName': 'Base_PT'\n",
       "            },\n",
       "            'associatedPc': None,\n",
       "            'associatedGroups': {\n",
       "                'userGroup': [\n",
       "                    {\n",
       "                        'name': 'Standard CTI Enabled',\n",
       "                        'userRoles': {\n",
       "                            'userRole': [\n",
       "                                'Standard CTI Enabled'\n",
       "                            ]\n",
       "                        }\n",
       "                    },\n",
       "                    {\n",
       "                        'name': 'Standard CCM End Users',\n",
       "                        'userRoles': {\n",
       "                            'userRole': [\n",
       "                                'Standard CCM End Users',\n",
       "                                'Standard CCMUSER Administration'\n",
       "                            ]\n",
       "                        }\n",
       "                    },\n",
       "                    {\n",
       "                        'name': 'Standard CTI Allow Control of Phones supporting Connected Xfer and conf',\n",
       "                        'userRoles': {\n",
       "                            'userRole': [\n",
       "                                'Standard CTI Allow Control of Phones supporting Connected Xfer and conf'\n",
       "                            ]\n",
       "                        }\n",
       "                    },\n",
       "                    {\n",
       "                        'name': 'Standard CTI Allow Control of Phones supporting Rollover Mode',\n",
       "                        'userRoles': {\n",
       "                            'userRole': [\n",
       "                                'Standard CTI Allow Control of Phones supporting Rollover Mode'\n",
       "                            ]\n",
       "                        }\n",
       "                    }\n",
       "                ]\n",
       "            },\n",
       "            'enableCti': 'true',\n",
       "            'digestCredentials': None,\n",
       "            'phoneProfiles': None,\n",
       "            'defaultProfile': {\n",
       "                '_value_1': None,\n",
       "                'uuid': None\n",
       "            },\n",
       "            'presenceGroupName': {\n",
       "                '_value_1': 'Standard Presence group',\n",
       "                'uuid': '{AD243D17-98B4-4118-8FEB-5FF2E1B781AC}'\n",
       "            },\n",
       "            'subscribeCallingSearchSpaceName': {\n",
       "                '_value_1': 'Call_Everyone',\n",
       "                'uuid': '{4DC5821F-C68F-4F4B-5815-C62683861AB1}'\n",
       "            },\n",
       "            'enableMobility': 'true',\n",
       "            'enableMobileVoiceAccess': 'false',\n",
       "            'maxDeskPickupWaitTime': 10000,\n",
       "            'remoteDestinationLimit': 4,\n",
       "            'associatedRemoteDestinationProfiles': None,\n",
       "            'passwordCredentials': {\n",
       "                'pwdCredPolicyName': {\n",
       "                    '_value_1': 'Default Credential Policy',\n",
       "                    'uuid': None\n",
       "                },\n",
       "                'pwdCredUserCantChange': 'false',\n",
       "                'pwdCredUserMustChange': 'true',\n",
       "                'pwdCredDoesNotExpire': 'false',\n",
       "                'pwdCredTimeChanged': 'August 21, 2020 17:21:36 BST',\n",
       "                'pwdCredTimeAdminLockout': None,\n",
       "                'pwdCredLockedByAdministrator': 'false',\n",
       "                'pwdResetHackCount': None\n",
       "            },\n",
       "            'pinCredentials': {\n",
       "                'pinCredPolicyName': {\n",
       "                    '_value_1': 'Default Credential Policy',\n",
       "                    'uuid': None\n",
       "                },\n",
       "                'pinCredUserCantChange': 'false',\n",
       "                'pinCredUserMustChange': 'false',\n",
       "                'pinCredDoesNotExpire': 'false',\n",
       "                'pinCredTimeChanged': 'May 16, 2022 08:24:01 BST',\n",
       "                'pinCredTimeAdminLockout': None,\n",
       "                'pinCredLockedByAdministrator': 'false',\n",
       "                'pinResetHackCount': None\n",
       "            },\n",
       "            'associatedTodAccess': None,\n",
       "            'status': 1,\n",
       "            'enableEmcc': 'false',\n",
       "            'associatedCapfProfiles': None,\n",
       "            'ctiControlledDeviceProfiles': None,\n",
       "            'patternPrecedence': None,\n",
       "            'numericUserId': None,\n",
       "            'mlppPassword': None,\n",
       "            'customUserFields': None,\n",
       "            'homeCluster': 'true',\n",
       "            'imAndPresenceEnable': 'true',\n",
       "            'serviceProfile': {\n",
       "                '_value_1': 'Service-Profile-Default',\n",
       "                'uuid': '{2D9DCAC3-603B-1FF8-777F-02D5E1023879}'\n",
       "            },\n",
       "            'lineAppearanceAssociationForPresences': {\n",
       "                'lineAppearanceAssociationForPresence': [\n",
       "                    {\n",
       "                        'laapAssociate': {\n",
       "                            '_value_1': 't',\n",
       "                            'uuid': None\n",
       "                        },\n",
       "                        'laapProductType': 'Cisco Unified Client Services Framework',\n",
       "                        'laapDeviceName': 'CSFAPEREZ',\n",
       "                        'laapDirectory': '6017',\n",
       "                        'laapPartition': 'Base_PT',\n",
       "                        'laapDescription': 'Anita Perez (Cisco Unified Client Services Framework SIP)',\n",
       "                        'uuid': '{BB15427E-CD69-4FFF-8EBD-C541A85FCBB7}'\n",
       "                    },\n",
       "                    {\n",
       "                        'laapAssociate': {\n",
       "                            '_value_1': 't',\n",
       "                            'uuid': None\n",
       "                        },\n",
       "                        'laapProductType': 'Cisco 8845',\n",
       "                        'laapDeviceName': 'SEPB1B1B1B1B1B1',\n",
       "                        'laapDirectory': '6017',\n",
       "                        'laapPartition': 'Base_PT',\n",
       "                        'laapDescription': 'Anita Perezs 8845',\n",
       "                        'uuid': '{62490DB2-0703-9CA0-F4FE-B816BE3485D1}'\n",
       "                    },\n",
       "                    {\n",
       "                        'laapAssociate': {\n",
       "                            '_value_1': 't',\n",
       "                            'uuid': None\n",
       "                        },\n",
       "                        'laapProductType': 'Cisco 8865',\n",
       "                        'laapDeviceName': 'SEPB2B2B2B2B2B2',\n",
       "                        'laapDirectory': '6017',\n",
       "                        'laapPartition': 'Base_PT',\n",
       "                        'laapDescription': 'Anita Perezs 8865',\n",
       "                        'uuid': '{63AE46A6-472A-E5A0-4612-6FA706271C07}'\n",
       "                    }\n",
       "                ]\n",
       "            },\n",
       "            'directoryUri': 'aperez@cb115.dc-02.com',\n",
       "            'telephoneNumber': '+1 972 555 6017',\n",
       "            'title': 'Account Manager',\n",
       "            'mobileNumber': None,\n",
       "            'homeNumber': None,\n",
       "            'pagerNumber': None,\n",
       "            'extensionsInfo': {\n",
       "                'extension': [\n",
       "                    {\n",
       "                        'sortOrder': None,\n",
       "                        'pattern': {\n",
       "                            '_value_1': '6017',\n",
       "                            'uuid': '{07EB3C78-2A00-1082-BFAD-47E047458865}'\n",
       "                        },\n",
       "                        'routePartition': 'Base_PT',\n",
       "                        'linePrimaryUri': None,\n",
       "                        'partition': None,\n",
       "                        'uuid': '{6BAC1A81-136F-47F7-9782-31C80B87990B}'\n",
       "                    }\n",
       "                ]\n",
       "            },\n",
       "            'selfService': '6017',\n",
       "            'userProfile': {\n",
       "                '_value_1': None,\n",
       "                'uuid': None\n",
       "            },\n",
       "            'calendarPresence': 'true',\n",
       "            'ldapDirectoryName': {\n",
       "                '_value_1': 'ad1',\n",
       "                'uuid': '{7509A747-BC3B-1C19-1C73-8D2E83C10EB8}'\n",
       "            },\n",
       "            'userIdentity': 'aperez@cb115.dc-02.com',\n",
       "            'nameDialing': 'PerezAnita',\n",
       "            'ipccExtension': {\n",
       "                '_value_1': None,\n",
       "                'uuid': None\n",
       "            },\n",
       "            'ipccRoutePartition': {\n",
       "                '_value_1': None,\n",
       "                'uuid': None\n",
       "            },\n",
       "            'convertUserAccount': {\n",
       "                '_value_1': 'ad1',\n",
       "                'uuid': '{7509A747-BC3B-1C19-1C73-8D2E83C10EB8}'\n",
       "            },\n",
       "            'enableUserToHostConferenceNow': 'false',\n",
       "            'attendeesAccessCode': None,\n",
       "            'zeroHop': None,\n",
       "            'customerName': {\n",
       "                '_value_1': None,\n",
       "                'uuid': None\n",
       "            },\n",
       "            'uuid': '{42B943AC-A016-EEC0-C887-528897BACB84}',\n",
       "            '_raw_elements': deque([<Element associatedHeadsets at 0x11a293100>])\n",
       "        }\n",
       "    },\n",
       "    'sequence': None\n",
       "}"
      ]
     },
     "execution_count": 16,
     "metadata": {},
     "output_type": "execute_result"
    }
   ],
   "source": [
    "service.getUser(userid='aperez')"
   ]
  },
  {
   "cell_type": "code",
   "execution_count": 18,
   "id": "0bf638ee",
   "metadata": {},
   "outputs": [
    {
     "name": "stderr",
     "output_type": "stream",
     "text": [
      "/usr/local/lib/python3.9/site-packages/urllib3/connectionpool.py:1013: InsecureRequestWarning: Unverified HTTPS request is being made to host '198.18.133.3'. Adding certificate verification is strongly advised. See: https://urllib3.readthedocs.io/en/1.26.x/advanced-usage.html#ssl-warnings\n",
      "  warnings.warn(\n"
     ]
    },
    {
     "data": {
      "text/plain": [
       "{\n",
       "    'return': '{42B943AC-A016-EEC0-C887-528897BACB84}',\n",
       "    'sequence': None\n",
       "}"
      ]
     },
     "execution_count": 18,
     "metadata": {},
     "output_type": "execute_result"
    }
   ],
   "source": [
    "service.updateUser(userid='aperez', phoneProfiles='DP-aperez')"
   ]
  },
  {
   "cell_type": "markdown",
   "id": "73f3a37d-acf1-4546-a328-c1a9d7d75ff3",
   "metadata": {},
   "source": [
    "# Extension Mobility Test"
   ]
  },
  {
   "cell_type": "code",
   "execution_count": 1,
   "id": "d31eeae8-a90f-426c-9b07-2ec588c9171d",
   "metadata": {},
   "outputs": [],
   "source": [
    "import requests"
   ]
  },
  {
   "cell_type": "code",
   "execution_count": 49,
   "id": "941ed8ff-ea61-4991-972f-75a884f68cea",
   "metadata": {},
   "outputs": [
    {
     "name": "stderr",
     "output_type": "stream",
     "text": [
      "/usr/local/lib/python3.9/site-packages/urllib3/connectionpool.py:1013: InsecureRequestWarning: Unverified HTTPS request is being made to host '198.18.133.3'. Adding certificate verification is strongly advised. See: https://urllib3.readthedocs.io/en/1.26.x/advanced-usage.html#ssl-warnings\n",
      "  warnings.warn(\n"
     ]
    },
    {
     "name": "stdout",
     "output_type": "stream",
     "text": [
      "<?xml version=\"1.0\"?>\n",
      "<response>\n",
      "<success/>\n",
      "</response>\n"
     ]
    }
   ],
   "source": [
    "url = \"https://198.18.133.3:8443/emservice/EMServiceServlet\"\n",
    "headers = {\n",
    "  'Content-Type': 'application/x-www-form-urlencoded'\n",
    "}\n",
    "\n",
    "#payload='xml=%3Crequest%3E%0A%3CappInfo%3E%0A%3CappID%3Eadministrator%3C%2FappID%3E%0A%3CappCertificate%3EdCloud123!%3C%2FappCertificate%3E%0A%3C%2FappInfo%3E%0A%3Clogin%3E%0A%3CdeviceName%3ESEPF07816D1DAA2%3C%2FdeviceName%3E%0A%3CuserID%3Eaperez%3C%2FuserID%3E%0A%3CdeviceProfile%3EDP-Anita%3C%2FdeviceProfile%3E%0A%3CexclusiveDuration%3E%0A%3Ctime%3E60%3C%2Ftime%3E%0A%3C%2FexclusiveDuration%3E%0A%3C%2Flogin%3E%0A%3C%2Frequest%3E'\n",
    "payload = '''xml=\n",
    "<request>\n",
    "<appInfo>\n",
    "<appID>administrator</appID>\n",
    "<appCertificate>dCloud123!</appCertificate>\n",
    "</appInfo>\n",
    "<login>\n",
    "<deviceName>SEPB4AE2BC9C05A</deviceName>\n",
    "<userID>aperez</userID>\n",
    "<deviceProfile>DP-aperez</deviceProfile>\n",
    "</login>\n",
    "</request>\n",
    "'''\n",
    "\n",
    "# headers = {\n",
    "#   'Content-Type': 'text/xml'\n",
    "# }\n",
    "\n",
    "response = requests.request(\"POST\", url, headers=headers, data=payload,verify=False)\n",
    "\n",
    "print(response.text)"
   ]
  },
  {
   "cell_type": "code",
   "execution_count": 47,
   "id": "6b08a400",
   "metadata": {},
   "outputs": [
    {
     "name": "stdout",
     "output_type": "stream",
     "text": [
      "{'response': {'failure': {'error': {'@code': '25', '#text': 'Policy Violation: com.cisco.emservice.PolicyValidatorException: Not allowed to log into multiple devices.'}}}}\n"
     ]
    }
   ],
   "source": [
    "import xmltodict, json\n",
    "data = xmltodict.parse(response.text)\n",
    "print(data)"
   ]
  },
  {
   "cell_type": "code",
   "execution_count": 40,
   "id": "e75831f3-fb9d-491d-bbc5-9a58ad0b4ca3",
   "metadata": {},
   "outputs": [],
   "source": [
    "payload = '''xml\n",
    "<request>\n",
    "<appInfo>\n",
    "<appID>administrator</appID>\n",
    "<appCertificate>dCloud123!</appCertificate>\n",
    "</appInfo>\n",
    "<login>\n",
    "<deviceName>SEPB1B1B1B1B1B1</deviceName>\n",
    "<userID>aperez</userID>\n",
    "<deviceProfile>DP-Anita</deviceProfile>\n",
    "<exclusiveDuration>\n",
    "<time>60</time>\n",
    "</exclusiveDuration>\n",
    "</login>\n",
    "</request>\n",
    "'''\n"
   ]
  },
  {
   "cell_type": "code",
   "execution_count": 45,
   "id": "0de1fdc8-00a1-448d-9c5e-f611f52c2929",
   "metadata": {},
   "outputs": [
    {
     "data": {
      "text/plain": [
       "b'xml\\n<request>\\n<appInfo>\\n<appID>administrator</appID>\\n<appCertificate>dCloud123!</appCertificate>\\n</appInfo>\\n<login>\\n<deviceName>SEPF07816D1DAA2</deviceName>\\n<userID>aperez</userID>\\n<deviceProfile>DP-Anita</deviceProfile>\\n<exclusiveDuration>\\n<time>60</time>\\n</exclusiveDuration>\\n</login>\\n</request>\\n'"
      ]
     },
     "execution_count": 45,
     "metadata": {},
     "output_type": "execute_result"
    }
   ],
   "source": [
    "payload.encode()"
   ]
  },
  {
   "cell_type": "code",
   "execution_count": 3,
   "id": "d35a5a42-c8a7-4127-a043-14f2c3273d88",
   "metadata": {},
   "outputs": [],
   "source": [
    "import pandas as pd\n",
    "def read_input_data(file):\n",
    "    data = pd.read_csv(file)\n",
    "    return data"
   ]
  },
  {
   "cell_type": "code",
   "execution_count": 58,
   "id": "cfe1df74-2b98-4faf-9efd-b81b02aafb21",
   "metadata": {},
   "outputs": [],
   "source": [
    "data = read_input_data('inputs/EM Logged in Detail test.csv').dropna()"
   ]
  },
  {
   "cell_type": "code",
   "execution_count": 56,
   "id": "3f599e1e-115d-4473-8040-87cf486dee25",
   "metadata": {},
   "outputs": [
    {
     "name": "stdout",
     "output_type": "stream",
     "text": [
      "nan\n"
     ]
    }
   ],
   "source": [
    "logs = data.copy()\n",
    "logs['Status'] = np.nan\n",
    "data['response']['failure']['error']"
   ]
  },
  {
   "cell_type": "code",
   "execution_count": 60,
   "id": "a0de590d",
   "metadata": {},
   "outputs": [
    {
     "data": {
      "text/html": [
       "<div>\n",
       "<style scoped>\n",
       "    .dataframe tbody tr th:only-of-type {\n",
       "        vertical-align: middle;\n",
       "    }\n",
       "\n",
       "    .dataframe tbody tr th {\n",
       "        vertical-align: top;\n",
       "    }\n",
       "\n",
       "    .dataframe thead th {\n",
       "        text-align: right;\n",
       "    }\n",
       "</style>\n",
       "<table border=\"1\" class=\"dataframe\">\n",
       "  <thead>\n",
       "    <tr style=\"text-align: right;\">\n",
       "      <th></th>\n",
       "      <th>First</th>\n",
       "      <th>Last</th>\n",
       "      <th>User ID</th>\n",
       "      <th>Device Name</th>\n",
       "      <th>Device Description</th>\n",
       "      <th>Remote Cluster ID</th>\n",
       "      <th>Time Stamp</th>\n",
       "    </tr>\n",
       "  </thead>\n",
       "  <tbody>\n",
       "    <tr>\n",
       "      <th>0</th>\n",
       "      <td>sdf</td>\n",
       "      <td>dfd</td>\n",
       "      <td>aperez</td>\n",
       "      <td>SEPB4AE2BC9C05A</td>\n",
       "      <td>SEP64E950CA29CA</td>\n",
       "      <td>local</td>\n",
       "      <td>Apr 19, 2021 6:20:45 AM</td>\n",
       "    </tr>\n",
       "  </tbody>\n",
       "</table>\n",
       "</div>"
      ],
      "text/plain": [
       "  First Last User ID      Device Name Device Description Remote Cluster ID  \\\n",
       "0   sdf  dfd  aperez  SEPB4AE2BC9C05A    SEP64E950CA29CA             local   \n",
       "\n",
       "                Time Stamp  \n",
       "0  Apr 19, 2021 6:20:45 AM  "
      ]
     },
     "execution_count": 60,
     "metadata": {},
     "output_type": "execute_result"
    }
   ],
   "source": [
    "data"
   ]
  },
  {
   "cell_type": "code",
   "execution_count": 6,
   "id": "5d4842c4-895c-48f0-a381-3572389b8d29",
   "metadata": {},
   "outputs": [],
   "source": [
    "def input_data_processing(data):\n",
    "    return {\n",
    "        'login_user':data['Device Name'],\n",
    "        'login_dp':data['User ID']\n",
    "    }\n",
    "\n"
   ]
  },
  {
   "cell_type": "code",
   "execution_count": 7,
   "id": "e384ef61-679e-417e-8d49-657f7110c1c8",
   "metadata": {},
   "outputs": [
    {
     "name": "stdout",
     "output_type": "stream",
     "text": [
      "{'login_user': 0       SEP64E950CA29CA\n",
      "1       SEP5CA48AFE7A69\n",
      "2       SEP64E950CA0B58\n",
      "3       SEPDCA5F43F29ED\n",
      "4       SEPF02929584607\n",
      "             ...       \n",
      "1514    SEPC4143CB13FA7\n",
      "1515    SEPC4143CB1400D\n",
      "1516    SEP00192F7F28C4\n",
      "1517    SEP6899CDA17839\n",
      "1518    SEPE8EDF3A8CF5B\n",
      "Name: Device Name, Length: 1519, dtype: object, 'login_dp': 0       2168\n",
      "1       4601\n",
      "2       6665\n",
      "3       6508\n",
      "4       5610\n",
      "        ... \n",
      "1514    4989\n",
      "1515    4606\n",
      "1516    3682\n",
      "1517    3866\n",
      "1518    3475\n",
      "Name: User ID, Length: 1519, dtype: int64}\n"
     ]
    }
   ],
   "source": [
    "print(input_data_processing(data))"
   ]
  },
  {
   "cell_type": "code",
   "execution_count": null,
   "id": "fe03d337-69f7-485f-8f68-a5b614a45e77",
   "metadata": {},
   "outputs": [],
   "source": []
  }
 ],
 "metadata": {
  "kernelspec": {
   "display_name": "Python 3 (ipykernel)",
   "language": "python",
   "name": "python3"
  },
  "language_info": {
   "codemirror_mode": {
    "name": "ipython",
    "version": 3
   },
   "file_extension": ".py",
   "mimetype": "text/x-python",
   "name": "python",
   "nbconvert_exporter": "python",
   "pygments_lexer": "ipython3",
   "version": "3.9.10"
  }
 },
 "nbformat": 4,
 "nbformat_minor": 5
}
